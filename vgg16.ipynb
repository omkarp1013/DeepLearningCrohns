{
 "cells": [
  {
   "cell_type": "code",
   "execution_count": null,
   "metadata": {
    "colab": {
     "base_uri": "https://localhost:8080/"
    },
    "id": "OK0YLi2jgk7l",
    "outputId": "de477681-fc69-47f0-d646-d86a2681f884"
   },
   "outputs": [],
   "source": [
    "from google.colab import drive\n",
    "drive.mount('/content/drive')"
   ]
  },
  {
   "cell_type": "code",
   "execution_count": null,
   "metadata": {
    "id": "zMQxVpbVgpt9"
   },
   "outputs": [],
   "source": [
    "#importing stuff: \n",
    "import numpy as np \n",
    "import matplotlib.pyplot as plt\n",
    "import os \n",
    "import cv2"
   ]
  },
  {
   "cell_type": "code",
   "execution_count": null,
   "metadata": {
    "id": "8MoV-Uisgrc_"
   },
   "outputs": [],
   "source": [
    "#creating training and test sets\n",
    "DATADIR = '/content/drive/MyDrive/Combined_1024'\n",
    "CATEGORIES = [\"Non-Pathologic\", \"Pathologic\"]"
   ]
  },
  {
   "cell_type": "code",
   "execution_count": null,
   "metadata": {
    "colab": {
     "base_uri": "https://localhost:8080/",
     "height": 249
    },
    "id": "Uohj2qMpgs74",
    "outputId": "0399053d-5ccb-4571-884d-89e20a54a207"
   },
   "outputs": [],
   "source": [
    "  #creating training dataset\n",
    "  for category in CATEGORIES: \n",
    "    path = os.path.join(DATADIR, category) #gets us into our directory (dir) for each category \n",
    "    for img in os.listdir(path):\n",
    "      img_array = cv2.imread(os.path.join(path, img)) #converts each image into an array\n",
    "  #creating training dataset\n",
    "\n",
    "  training_data = []\n",
    "  IMG_SIZE = 224\n",
    "  new_array = cv2.resize(img_array, (IMG_SIZE, IMG_SIZE))\n",
    "\n",
    "  def create_training_data():\n",
    "    for category in CATEGORIES: \n",
    "      path = os.path.join(DATADIR, category) #gets us into our directory (dir) for each category \n",
    "      class_num = CATEGORIES.index(category) #assigning a number as a label for each dataset\n",
    "      for img in os.listdir(path):\n",
    "        img_array = cv2.imread(os.path.join(path, img)) \n",
    "        new_array = cv2.resize(img_array, (IMG_SIZE, IMG_SIZE))\n",
    "        training_data.append([new_array, class_num])\n",
    "\n",
    "  create_training_data()\n",
    "\n",
    "  print(len(training_data))\n",
    "\n"
   ]
  },
  {
   "cell_type": "code",
   "execution_count": null,
   "metadata": {
    "colab": {
     "base_uri": "https://localhost:8080/",
     "height": 232
    },
    "id": "8G8WnAEKkbYz",
    "outputId": "68f7e8c2-813c-4422-f748-31957715baf7"
   },
   "outputs": [],
   "source": [
    " #shuffling the data\n",
    "import random \n",
    "random.shuffle(training_data)\n",
    "X = []\n",
    "y = []\n",
    "for features, label in training_data: \n",
    "  X.append(features)\n",
    "  y.append(label)\n",
    "X = np.array(X).reshape(-1, IMG_SIZE, IMG_SIZE, 1)"
   ]
  },
  {
   "cell_type": "code",
   "execution_count": null,
   "metadata": {
    "id": "IImfbT234pIt"
   },
   "outputs": [],
   "source": [
    "import pickle\n",
    "pickle_out = open(\"X.pickle\", \"wb\")\n",
    "pickle.dump(X, pickle_out)\n",
    "pickle_out.close()\n",
    "\n",
    "pickle_out = open(\"y.pickle\", \"wb\")\n",
    "pickle.dump(y, pickle_out)\n",
    "pickle_out.close()"
   ]
  },
  {
   "cell_type": "code",
   "execution_count": null,
   "metadata": {
    "colab": {
     "base_uri": "https://localhost:8080/",
     "height": 232
    },
    "id": "Y7qHUhw84Lqg",
    "outputId": "f2635af3-4811-4088-af97-f63ae191a19a"
   },
   "outputs": [],
   "source": [
    "import tensorflow as tf\n",
    "from tensorflow.keras.datasets import cifar10\n",
    "from tensorflow.keras.models import Sequential\n",
    "from tensorflow.keras.layers import Dense, Dropout, Activation, Flatten\n",
    "from tensorflow.keras.layers import Conv2D, MaxPooling2D\n",
    "\n",
    "X = pickle.load(open(\"X.pickle\", \"rb\"))\n",
    "y = pickle.load(open(\"y.pickle\", \"rb\"))\n",
    "\n",
    "X = X/255.0\n",
    "\n",
    "model = Sequential()\n",
    "\n",
    "model.add(Conv2D(256, (3, 3), input_shape=X.shape[1:]))\n",
    "model.add(Activation('relu'))\n",
    "model.add(MaxPooling2D(pool_size=(2, 2)))\n",
    "\n",
    "model.add(Conv2D(256, (3, 3)))\n",
    "model.add(Activation('relu'))\n",
    "model.add(MaxPooling2D(pool_size=(2, 2)))\n",
    "\n",
    "model.add(Flatten())  # this converts our 3D feature maps to 1D feature vectors\n",
    "model.add(Dense(64))\n",
    "\n",
    "model.add(Dense(1))\n",
    "model.add(Activation('sigmoid'))\n",
    "\n",
    "model.compile(loss='binary_crossentropy',\n",
    "              optimizer='adam',\n",
    "              metrics=['accuracy'])\n",
    "\n",
    "model.fit(X, y, batch_size=32, epochs=3, validation_split=0.3) "
   ]
  }
 ],
 "metadata": {
  "accelerator": "GPU",
  "colab": {
   "provenance": []
  },
  "kernelspec": {
   "display_name": "Python 3 (ipykernel)",
   "language": "python",
   "name": "python3"
  },
  "language_info": {
   "codemirror_mode": {
    "name": "ipython",
    "version": 3
   },
   "file_extension": ".py",
   "mimetype": "text/x-python",
   "name": "python",
   "nbconvert_exporter": "python",
   "pygments_lexer": "ipython3",
   "version": "3.11.5"
  }
 },
 "nbformat": 4,
 "nbformat_minor": 4
}
